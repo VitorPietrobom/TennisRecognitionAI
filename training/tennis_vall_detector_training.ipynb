{
 "cells": [
  {
   "cell_type": "code",
   "execution_count": 2,
   "metadata": {},
   "outputs": [
    {
     "name": "stdout",
     "output_type": "stream",
     "text": [
      "Defaulting to user installation because normal site-packages is not writeable\n",
      "Requirement already satisfied: roboflow in c:\\users\\vitor\\appdata\\roaming\\python\\python311\\site-packages (1.1.26)\n",
      "Requirement already satisfied: certifi==2023.7.22 in c:\\users\\vitor\\appdata\\roaming\\python\\python311\\site-packages (from roboflow) (2023.7.22)\n",
      "Requirement already satisfied: chardet==4.0.0 in c:\\users\\vitor\\appdata\\roaming\\python\\python311\\site-packages (from roboflow) (4.0.0)\n",
      "Requirement already satisfied: cycler==0.10.0 in c:\\users\\vitor\\appdata\\roaming\\python\\python311\\site-packages (from roboflow) (0.10.0)\n",
      "Requirement already satisfied: idna==2.10 in c:\\users\\vitor\\appdata\\roaming\\python\\python311\\site-packages (from roboflow) (2.10)\n",
      "Requirement already satisfied: kiwisolver>=1.3.1 in c:\\users\\vitor\\appdata\\roaming\\python\\python311\\site-packages (from roboflow) (1.4.5)\n",
      "Requirement already satisfied: matplotlib in c:\\users\\vitor\\appdata\\roaming\\python\\python311\\site-packages (from roboflow) (3.8.3)\n",
      "Requirement already satisfied: numpy>=1.18.5 in c:\\users\\vitor\\appdata\\roaming\\python\\python311\\site-packages (from roboflow) (1.26.4)\n",
      "Requirement already satisfied: opencv-python-headless==4.8.0.74 in c:\\users\\vitor\\appdata\\roaming\\python\\python311\\site-packages (from roboflow) (4.8.0.74)\n",
      "Requirement already satisfied: Pillow>=7.1.2 in c:\\users\\vitor\\appdata\\roaming\\python\\python311\\site-packages (from roboflow) (10.2.0)\n",
      "Requirement already satisfied: python-dateutil in c:\\users\\vitor\\appdata\\roaming\\python\\python311\\site-packages (from roboflow) (2.9.0.post0)\n",
      "Requirement already satisfied: python-dotenv in c:\\users\\vitor\\appdata\\roaming\\python\\python311\\site-packages (from roboflow) (1.0.1)\n",
      "Requirement already satisfied: requests in c:\\users\\vitor\\appdata\\roaming\\python\\python311\\site-packages (from roboflow) (2.31.0)\n",
      "Requirement already satisfied: six in c:\\users\\vitor\\appdata\\roaming\\python\\python311\\site-packages (from roboflow) (1.16.0)\n",
      "Requirement already satisfied: urllib3>=1.26.6 in c:\\users\\vitor\\appdata\\roaming\\python\\python311\\site-packages (from roboflow) (2.2.0)\n",
      "Requirement already satisfied: tqdm>=4.41.0 in c:\\users\\vitor\\appdata\\roaming\\python\\python311\\site-packages (from roboflow) (4.66.2)\n",
      "Requirement already satisfied: PyYAML>=5.3.1 in c:\\users\\vitor\\appdata\\roaming\\python\\python311\\site-packages (from roboflow) (6.0.1)\n",
      "Requirement already satisfied: requests-toolbelt in c:\\users\\vitor\\appdata\\roaming\\python\\python311\\site-packages (from roboflow) (1.0.0)\n",
      "Requirement already satisfied: python-magic in c:\\users\\vitor\\appdata\\roaming\\python\\python311\\site-packages (from roboflow) (0.4.27)\n",
      "Requirement already satisfied: colorama in c:\\users\\vitor\\appdata\\roaming\\python\\python311\\site-packages (from tqdm>=4.41.0->roboflow) (0.4.6)\n",
      "Requirement already satisfied: contourpy>=1.0.1 in c:\\users\\vitor\\appdata\\roaming\\python\\python311\\site-packages (from matplotlib->roboflow) (1.2.0)\n",
      "Requirement already satisfied: fonttools>=4.22.0 in c:\\users\\vitor\\appdata\\roaming\\python\\python311\\site-packages (from matplotlib->roboflow) (4.50.0)\n",
      "Requirement already satisfied: packaging>=20.0 in c:\\users\\vitor\\appdata\\roaming\\python\\python311\\site-packages (from matplotlib->roboflow) (23.1)\n",
      "Requirement already satisfied: pyparsing>=2.3.1 in c:\\users\\vitor\\appdata\\roaming\\python\\python311\\site-packages (from matplotlib->roboflow) (3.1.1)\n",
      "Requirement already satisfied: charset-normalizer<4,>=2 in c:\\users\\vitor\\appdata\\roaming\\python\\python311\\site-packages (from requests->roboflow) (3.3.2)\n",
      "Note: you may need to restart the kernel to use updated packages.\n"
     ]
    }
   ],
   "source": [
    "%pip install roboflow"
   ]
  },
  {
   "cell_type": "code",
   "execution_count": 1,
   "metadata": {},
   "outputs": [
    {
     "name": "stdout",
     "output_type": "stream",
     "text": [
      "Defaulting to user installation because normal site-packages is not writeable\n",
      "Collecting roboflow\n",
      "  Downloading roboflow-1.1.26-py3-none-any.whl.metadata (9.3 kB)\n",
      "Collecting certifi==2023.7.22 (from roboflow)\n",
      "  Downloading certifi-2023.7.22-py3-none-any.whl.metadata (2.2 kB)\n",
      "Collecting chardet==4.0.0 (from roboflow)\n",
      "  Downloading chardet-4.0.0-py2.py3-none-any.whl.metadata (3.5 kB)\n",
      "Collecting cycler==0.10.0 (from roboflow)\n",
      "  Downloading cycler-0.10.0-py2.py3-none-any.whl.metadata (722 bytes)\n",
      "Collecting idna==2.10 (from roboflow)\n",
      "  Downloading idna-2.10-py2.py3-none-any.whl.metadata (9.1 kB)\n",
      "Requirement already satisfied: kiwisolver>=1.3.1 in c:\\users\\vitor\\appdata\\roaming\\python\\python311\\site-packages (from roboflow) (1.4.5)\n",
      "Requirement already satisfied: matplotlib in c:\\users\\vitor\\appdata\\roaming\\python\\python311\\site-packages (from roboflow) (3.8.3)\n",
      "Requirement already satisfied: numpy>=1.18.5 in c:\\users\\vitor\\appdata\\roaming\\python\\python311\\site-packages (from roboflow) (1.26.4)\n",
      "Collecting opencv-python-headless==4.8.0.74 (from roboflow)\n",
      "  Downloading opencv_python_headless-4.8.0.74-cp37-abi3-win_amd64.whl.metadata (19 kB)\n",
      "Requirement already satisfied: Pillow>=7.1.2 in c:\\users\\vitor\\appdata\\roaming\\python\\python311\\site-packages (from roboflow) (10.2.0)\n",
      "Requirement already satisfied: python-dateutil in c:\\users\\vitor\\appdata\\roaming\\python\\python311\\site-packages (from roboflow) (2.9.0.post0)\n",
      "Collecting python-dotenv (from roboflow)\n",
      "  Downloading python_dotenv-1.0.1-py3-none-any.whl.metadata (23 kB)\n",
      "Requirement already satisfied: requests in c:\\users\\vitor\\appdata\\roaming\\python\\python311\\site-packages (from roboflow) (2.31.0)\n",
      "Requirement already satisfied: six in c:\\users\\vitor\\appdata\\roaming\\python\\python311\\site-packages (from roboflow) (1.16.0)\n",
      "Requirement already satisfied: urllib3>=1.26.6 in c:\\users\\vitor\\appdata\\roaming\\python\\python311\\site-packages (from roboflow) (2.2.0)\n",
      "Requirement already satisfied: tqdm>=4.41.0 in c:\\users\\vitor\\appdata\\roaming\\python\\python311\\site-packages (from roboflow) (4.66.2)\n",
      "Requirement already satisfied: PyYAML>=5.3.1 in c:\\users\\vitor\\appdata\\roaming\\python\\python311\\site-packages (from roboflow) (6.0.1)\n",
      "Collecting requests-toolbelt (from roboflow)\n",
      "  Downloading requests_toolbelt-1.0.0-py2.py3-none-any.whl.metadata (14 kB)\n",
      "Collecting python-magic (from roboflow)\n",
      "  Downloading python_magic-0.4.27-py2.py3-none-any.whl.metadata (5.8 kB)\n",
      "Requirement already satisfied: colorama in c:\\users\\vitor\\appdata\\roaming\\python\\python311\\site-packages (from tqdm>=4.41.0->roboflow) (0.4.6)\n",
      "Requirement already satisfied: contourpy>=1.0.1 in c:\\users\\vitor\\appdata\\roaming\\python\\python311\\site-packages (from matplotlib->roboflow) (1.2.0)\n",
      "Requirement already satisfied: fonttools>=4.22.0 in c:\\users\\vitor\\appdata\\roaming\\python\\python311\\site-packages (from matplotlib->roboflow) (4.50.0)\n",
      "Requirement already satisfied: packaging>=20.0 in c:\\users\\vitor\\appdata\\roaming\\python\\python311\\site-packages (from matplotlib->roboflow) (23.1)\n",
      "Requirement already satisfied: pyparsing>=2.3.1 in c:\\users\\vitor\\appdata\\roaming\\python\\python311\\site-packages (from matplotlib->roboflow) (3.1.1)\n",
      "Requirement already satisfied: charset-normalizer<4,>=2 in c:\\users\\vitor\\appdata\\roaming\\python\\python311\\site-packages (from requests->roboflow) (3.3.2)\n",
      "Downloading roboflow-1.1.26-py3-none-any.whl (71 kB)\n",
      "   ---------------------------------------- 0.0/72.0 kB ? eta -:--:--\n",
      "   ---------------------------------------- 72.0/72.0 kB ? eta 0:00:00\n",
      "Downloading certifi-2023.7.22-py3-none-any.whl (158 kB)\n",
      "   ---------------------------------------- 0.0/158.3 kB ? eta -:--:--\n",
      "   ---------------------------------------- 158.3/158.3 kB 9.9 MB/s eta 0:00:00\n",
      "Downloading chardet-4.0.0-py2.py3-none-any.whl (178 kB)\n",
      "   ---------------------------------------- 0.0/178.7 kB ? eta -:--:--\n",
      "   --------------------------------------- 178.7/178.7 kB 10.5 MB/s eta 0:00:00\n",
      "Downloading cycler-0.10.0-py2.py3-none-any.whl (6.5 kB)\n",
      "Downloading idna-2.10-py2.py3-none-any.whl (58 kB)\n",
      "   ---------------------------------------- 0.0/58.8 kB ? eta -:--:--\n",
      "   ---------------------------------------- 58.8/58.8 kB 3.0 MB/s eta 0:00:00\n",
      "Downloading opencv_python_headless-4.8.0.74-cp37-abi3-win_amd64.whl (38.0 MB)\n",
      "   ---------------------------------------- 0.0/38.0 MB ? eta -:--:--\n",
      "    --------------------------------------- 0.8/38.0 MB 24.3 MB/s eta 0:00:02\n",
      "   - -------------------------------------- 1.6/38.0 MB 20.2 MB/s eta 0:00:02\n",
      "   -- ------------------------------------- 2.1/38.0 MB 17.0 MB/s eta 0:00:03\n",
      "   --- ------------------------------------ 2.9/38.0 MB 16.6 MB/s eta 0:00:03\n",
      "   --- ------------------------------------ 3.7/38.0 MB 16.7 MB/s eta 0:00:03\n",
      "   ---- ----------------------------------- 4.4/38.0 MB 16.5 MB/s eta 0:00:03\n",
      "   ----- ---------------------------------- 5.2/38.0 MB 16.5 MB/s eta 0:00:02\n",
      "   ------ --------------------------------- 6.0/38.0 MB 16.5 MB/s eta 0:00:02\n",
      "   ------- -------------------------------- 6.7/38.0 MB 16.4 MB/s eta 0:00:02\n",
      "   ------- -------------------------------- 7.5/38.0 MB 16.4 MB/s eta 0:00:02\n",
      "   -------- ------------------------------- 8.2/38.0 MB 16.4 MB/s eta 0:00:02\n",
      "   --------- ------------------------------ 9.0/38.0 MB 16.5 MB/s eta 0:00:02\n",
      "   ---------- ----------------------------- 9.8/38.0 MB 16.5 MB/s eta 0:00:02\n",
      "   ----------- ---------------------------- 10.6/38.0 MB 16.4 MB/s eta 0:00:02\n",
      "   ------------ --------------------------- 11.5/38.0 MB 16.4 MB/s eta 0:00:02\n",
      "   ------------ --------------------------- 12.3/38.0 MB 16.8 MB/s eta 0:00:02\n",
      "   ------------- -------------------------- 13.1/38.0 MB 16.8 MB/s eta 0:00:02\n",
      "   -------------- ------------------------- 13.9/38.0 MB 16.8 MB/s eta 0:00:02\n",
      "   --------------- ------------------------ 14.7/38.0 MB 17.2 MB/s eta 0:00:02\n",
      "   ---------------- ----------------------- 15.6/38.0 MB 17.7 MB/s eta 0:00:02\n",
      "   ----------------- ---------------------- 16.3/38.0 MB 17.7 MB/s eta 0:00:02\n",
      "   ------------------ --------------------- 17.1/38.0 MB 17.7 MB/s eta 0:00:02\n",
      "   ------------------ --------------------- 17.9/38.0 MB 17.7 MB/s eta 0:00:02\n",
      "   ------------------- -------------------- 18.7/38.0 MB 17.7 MB/s eta 0:00:02\n",
      "   -------------------- ------------------- 19.5/38.0 MB 17.7 MB/s eta 0:00:02\n",
      "   --------------------- ------------------ 20.3/38.0 MB 17.7 MB/s eta 0:00:01\n",
      "   ---------------------- ----------------- 21.1/38.0 MB 17.2 MB/s eta 0:00:01\n",
      "   ----------------------- ---------------- 21.9/38.0 MB 17.7 MB/s eta 0:00:01\n",
      "   ----------------------- ---------------- 22.7/38.0 MB 17.2 MB/s eta 0:00:01\n",
      "   ------------------------ --------------- 23.5/38.0 MB 17.3 MB/s eta 0:00:01\n",
      "   ------------------------- -------------- 24.2/38.0 MB 17.3 MB/s eta 0:00:01\n",
      "   -------------------------- ------------- 25.0/38.0 MB 17.2 MB/s eta 0:00:01\n",
      "   --------------------------- ------------ 25.9/38.0 MB 17.2 MB/s eta 0:00:01\n",
      "   ---------------------------- ----------- 26.7/38.0 MB 17.2 MB/s eta 0:00:01\n",
      "   ---------------------------- ----------- 27.4/38.0 MB 17.2 MB/s eta 0:00:01\n",
      "   ----------------------------- ---------- 28.2/38.0 MB 17.7 MB/s eta 0:00:01\n",
      "   ------------------------------ --------- 28.9/38.0 MB 17.2 MB/s eta 0:00:01\n",
      "   ------------------------------- -------- 29.6/38.0 MB 17.2 MB/s eta 0:00:01\n",
      "   ------------------------------- -------- 30.3/38.0 MB 16.8 MB/s eta 0:00:01\n",
      "   -------------------------------- ------- 31.0/38.0 MB 16.8 MB/s eta 0:00:01\n",
      "   --------------------------------- ------ 31.8/38.0 MB 16.8 MB/s eta 0:00:01\n",
      "   ---------------------------------- ----- 32.5/38.0 MB 16.4 MB/s eta 0:00:01\n",
      "   ----------------------------------- ---- 33.3/38.0 MB 16.4 MB/s eta 0:00:01\n",
      "   ----------------------------------- ---- 34.1/38.0 MB 16.4 MB/s eta 0:00:01\n",
      "   ------------------------------------ --- 34.9/38.0 MB 16.4 MB/s eta 0:00:01\n",
      "   ------------------------------------- -- 35.6/38.0 MB 16.4 MB/s eta 0:00:01\n",
      "   -------------------------------------- - 36.4/38.0 MB 16.4 MB/s eta 0:00:01\n",
      "   -------------------------------------- - 36.6/38.0 MB 15.6 MB/s eta 0:00:01\n",
      "   ---------------------------------------  37.3/38.0 MB 15.2 MB/s eta 0:00:01\n",
      "   ---------------------------------------  37.9/38.0 MB 15.6 MB/s eta 0:00:01\n",
      "   ---------------------------------------  37.9/38.0 MB 15.6 MB/s eta 0:00:01\n",
      "   ---------------------------------------  37.9/38.0 MB 15.6 MB/s eta 0:00:01\n",
      "   ---------------------------------------  37.9/38.0 MB 15.6 MB/s eta 0:00:01\n",
      "   ---------------------------------------- 38.0/38.0 MB 12.3 MB/s eta 0:00:00\n",
      "Downloading python_dotenv-1.0.1-py3-none-any.whl (19 kB)\n",
      "Downloading python_magic-0.4.27-py2.py3-none-any.whl (13 kB)\n",
      "Downloading requests_toolbelt-1.0.0-py2.py3-none-any.whl (54 kB)\n",
      "   ---------------------------------------- 0.0/54.5 kB ? eta -:--:--\n",
      "   ---------------------------------------- 54.5/54.5 kB ? eta 0:00:00\n",
      "Installing collected packages: python-magic, python-dotenv, opencv-python-headless, idna, cycler, chardet, certifi, requests-toolbelt, roboflow\n",
      "  Attempting uninstall: idna\n",
      "    Found existing installation: idna 3.6\n",
      "    Uninstalling idna-3.6:\n",
      "      Successfully uninstalled idna-3.6\n",
      "  Attempting uninstall: cycler\n",
      "    Found existing installation: cycler 0.12.1\n",
      "    Uninstalling cycler-0.12.1:\n",
      "      Successfully uninstalled cycler-0.12.1\n",
      "  Attempting uninstall: certifi\n",
      "    Found existing installation: certifi 2024.2.2\n",
      "    Uninstalling certifi-2024.2.2:\n",
      "      Successfully uninstalled certifi-2024.2.2\n",
      "Successfully installed certifi-2023.7.22 chardet-4.0.0 cycler-0.10.0 idna-2.10 opencv-python-headless-4.8.0.74 python-dotenv-1.0.1 python-magic-0.4.27 requests-toolbelt-1.0.0 roboflow-1.1.26\n",
      "Note: you may need to restart the kernel to use updated packages.\n",
      "loading Roboflow workspace...\n",
      "loading Roboflow project...\n"
     ]
    },
    {
     "name": "stderr",
     "output_type": "stream",
     "text": [
      "Downloading Dataset Version Zip in tennis-ball-detection-6 to yolov5pytorch:: 100%|██████████| 52040/52040 [00:04<00:00, 12561.24it/s]"
     ]
    },
    {
     "name": "stdout",
     "output_type": "stream",
     "text": [
      "\n"
     ]
    },
    {
     "name": "stderr",
     "output_type": "stream",
     "text": [
      "\n",
      "Extracting Dataset Version Zip to tennis-ball-detection-6 in yolov5pytorch:: 100%|██████████| 1168/1168 [00:00<00:00, 3139.94it/s]\n"
     ]
    }
   ],
   "source": [
    "from roboflow import Roboflow\n",
    "rf = Roboflow(api_key=\"0txMuFsoeivFrkYNm8sX\")\n",
    "project = rf.workspace(\"viren-dhanwani\").project(\"tennis-ball-detection\")\n",
    "version = project.version(6)\n",
    "dataset = version.download(\"yolov5\")\n"
   ]
  },
  {
   "cell_type": "code",
   "execution_count": 7,
   "metadata": {},
   "outputs": [
    {
     "name": "stdout",
     "output_type": "stream",
     "text": [
      "It looks like these folders have already been moved or don't exist.\n"
     ]
    }
   ],
   "source": [
    "import shutil\n",
    "\n",
    "try:\n",
    "    shutil.move(\"tennis-ball-detection-6/train\", \"tennis-ball-detection-6/tennis-ball-detection-6/train\")\n",
    "    shutil.move(\"tennis-ball-detection-6/test\", \"tennis-ball-detection-6/tennis-ball-detection-6/test\")\n",
    "    shutil.move(\"tennis-ball-detection-6/valid\", \"tennis-ball-detection-6/tennis-ball-detection-6/valid\")\n",
    "except:\n",
    "    print(\"It looks like these folders have already been moved or don't exist.\")\n"
   ]
  },
  {
   "cell_type": "code",
   "execution_count": 11,
   "metadata": {},
   "outputs": [
    {
     "name": "stdout",
     "output_type": "stream",
     "text": [
      "^C\n"
     ]
    }
   ],
   "source": [
    "!yolo task=detect mode=train model=yolov5l6u.pt data={dataset.location}/data.yaml epochs=100 imgsz=640"
   ]
  }
 ],
 "metadata": {
  "kernelspec": {
   "display_name": "Python 3",
   "language": "python",
   "name": "python3"
  },
  "language_info": {
   "codemirror_mode": {
    "name": "ipython",
    "version": 3
   },
   "file_extension": ".py",
   "mimetype": "text/x-python",
   "name": "python",
   "nbconvert_exporter": "python",
   "pygments_lexer": "ipython3",
   "version": "3.11.4"
  },
  "orig_nbformat": 4
 },
 "nbformat": 4,
 "nbformat_minor": 2
}
